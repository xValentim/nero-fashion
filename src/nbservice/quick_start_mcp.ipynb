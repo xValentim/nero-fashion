{
 "cells": [
  {
   "cell_type": "code",
   "execution_count": 13,
   "id": "3657057e",
   "metadata": {},
   "outputs": [],
   "source": [
    "from langchain_mcp_adapters.client import MultiServerMCPClient\n",
    "\n",
    "\n",
    "client = MultiServerMCPClient(\n",
    "    {\n",
    "        \"MyServer\": {\n",
    "            \"url\": \"http://127.0.0.1:8000/mcp\",\n",
    "            \"transport\": \"streamable_http\",\n",
    "        }\n",
    "    }\n",
    ")\n",
    "tools = await client.get_tools()\n",
    "router = {\n",
    "    t.name: t for t in tools\n",
    "}"
   ]
  },
  {
   "cell_type": "code",
   "execution_count": 14,
   "id": "31685d7f",
   "metadata": {},
   "outputs": [
    {
     "data": {
      "text/plain": [
       "[StructuredTool(name='add', description='Adds two numbers.', args_schema={'properties': {'a': {'title': 'A', 'type': 'integer'}, 'b': {'title': 'B', 'type': 'integer'}}, 'required': ['a', 'b'], 'title': 'addArguments', 'type': 'object'}, response_format='content_and_artifact', coroutine=<function convert_mcp_tool_to_langchain_tool.<locals>.call_tool at 0x00000208C6005510>),\n",
       " StructuredTool(name='remix_images_tool', description='Remixes the given images based on the text prompt.', args_schema={'properties': {'image_paths': {'items': {'type': 'string'}, 'title': 'Image Paths', 'type': 'array'}, 'prompt': {'title': 'Prompt', 'type': 'string'}}, 'required': ['image_paths', 'prompt'], 'title': 'remix_images_toolArguments', 'type': 'object'}, response_format='content_and_artifact', coroutine=<function convert_mcp_tool_to_langchain_tool.<locals>.call_tool at 0x00000208C60057E0>)]"
      ]
     },
     "execution_count": 14,
     "metadata": {},
     "output_type": "execute_result"
    }
   ],
   "source": [
    "tools"
   ]
  },
  {
   "cell_type": "code",
   "execution_count": 15,
   "id": "18cfb418",
   "metadata": {},
   "outputs": [],
   "source": [
    "response = await mix_nanobanana.ainvoke({\n",
    "    \"image_paths\": [\"./images/valentim.jpg\", \n",
    "                    \"./images/oculos_2.png\"],\n",
    "    \"prompt\": \"Mix the images together\",\n",
    "})"
   ]
  },
  {
   "cell_type": "code",
   "execution_count": 16,
   "id": "a96b8fde",
   "metadata": {},
   "outputs": [
    {
     "data": {
      "text/plain": [
       "26"
      ]
     },
     "execution_count": 16,
     "metadata": {},
     "output_type": "execute_result"
    }
   ],
   "source": [
    "len(response)"
   ]
  },
  {
   "cell_type": "code",
   "execution_count": null,
   "id": "e786bdf5",
   "metadata": {},
   "outputs": [],
   "source": []
  }
 ],
 "metadata": {
  "kernelspec": {
   "display_name": "env",
   "language": "python",
   "name": "python3"
  },
  "language_info": {
   "codemirror_mode": {
    "name": "ipython",
    "version": 3
   },
   "file_extension": ".py",
   "mimetype": "text/x-python",
   "name": "python",
   "nbconvert_exporter": "python",
   "pygments_lexer": "ipython3",
   "version": "3.10.11"
  }
 },
 "nbformat": 4,
 "nbformat_minor": 5
}
